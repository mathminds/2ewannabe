{
 "cells": [
  {
   "cell_type": "code",
   "execution_count": 1,
   "metadata": {},
   "outputs": [],
   "source": [
    "import requests\n",
    "from bs4 import BeautifulSoup\n",
    "import pandas as pd"
   ]
  },
  {
   "cell_type": "code",
   "execution_count": 2,
   "metadata": {},
   "outputs": [],
   "source": [
    "API_key = 'd5jMotazkFTM0ZWzBLwip60lRnNIFdF8AFqiVl6GpKg%2BbDsp4G5UpRx3wtENh2E4V4QgASqRgtblnVGkaRjQGQ%3D%3D'"
   ]
  },
  {
   "cell_type": "code",
   "execution_count": 3,
   "metadata": {},
   "outputs": [],
   "source": [
    "search_word = '관악산'"
   ]
  },
  {
   "cell_type": "code",
   "execution_count": 4,
   "metadata": {},
   "outputs": [],
   "source": [
    "url = 'http://apis.data.go.kr/1400000/service/cultureInfoService/mntInfoOpenAPI?searchWrd={}&ServiceKey={}&_type=json'.format(search_word, API_key)"
   ]
  },
  {
   "cell_type": "code",
   "execution_count": 5,
   "metadata": {},
   "outputs": [
    {
     "name": "stdout",
     "output_type": "stream",
     "text": [
      "http://apis.data.go.kr/1400000/service/cultureInfoService/mntInfoOpenAPI?searchWrd=관악산&ServiceKey=d5jMotazkFTM0ZWzBLwip60lRnNIFdF8AFqiVl6GpKg%2BbDsp4G5UpRx3wtENh2E4V4QgASqRgtblnVGkaRjQGQ%3D%3D&_type=json\n"
     ]
    }
   ],
   "source": [
    "print(url)"
   ]
  },
  {
   "cell_type": "code",
   "execution_count": 6,
   "metadata": {},
   "outputs": [],
   "source": [
    "response = requests.get(url)"
   ]
  },
  {
   "cell_type": "code",
   "execution_count": 7,
   "metadata": {},
   "outputs": [
    {
     "name": "stdout",
     "output_type": "stream",
     "text": [
      "{\"response\":{\"header\":{\"resultCode\":\"00\",\"resultMsg\":\"NORMAL SERVICE.\"},\"body\":{\"items\":{\"item\":[{\"mntiadd\":\"서울특별시 관악구 신림동 \",\"mntiadmin\":\"관악구청\",\"mntiadminnum\":\"02-879-5000\",\"mntidetails\":\"관악산은 서울시 관악구와 금천구, 경기도 과천시와 안양시에 걸쳐 있어 북한산, 도봉산과 더불어 누구나 쉽게 찾는 친근한 산이다. 멀리서 보면 온통 바위로 뒤덮여 있는 산세를 가진 관악산은 해발은 낮으나 등산로 곳곳에 위험한 바위가 있어 조심해야 한다. 관악산은 예로부터 불의 산(火山)이라 하여 조선 태조가 궁터를 지금의 경복궁 자리로 옮길 때, 무학대사가 이곳은 관악산과 마주 보이는 자리로 관악산의 화기가 궁을 눌러서 내우외환이 끊이지 않을 것이라며 반대했지만, 정도전의 남쪽에 한강이 가로질러 있어서 영향이 없을 것이라는 주장을 받아들여 지금의 경복궁을 창건하였다 한다. 그 후 태종 때 왕자의 난, 세조의 왕위 찬탈, 임진왜란, 병자호란, 그리고 경복궁에 발생한 수차례의 화재가 발생한 것을 풍수지리설로 해석하는 이도 있다. 대원군은 경복궁을 재건할 때 관악산의 화기를 누르기 위해 경복궁 정문인 광화문 앞에 바다의 신으로 상상의 동물인 해태 조각상을 만들어 세웠다. 관악산 연주대는 고려가 망하자 남은 유신 열 사람이 관악산 절에 숨어 살며 경복궁을 바라보며 통곡을 했다 하여, 임금을 사모한다는 뜻으로 연주대(戀主臺)라 불리게 되었다 한다. 이성계가 연주암을 중창한 뒤, 태종의 두 아들인 양녕대군과 효령대군은 태종이 왕위를 셋째 충녕대군(세종)에게 물려줄 뜻을 알고 관악산에 입산하였다 한다. 예전에 관악산을 삼성산이라 부른 것은 신라의 고승 원효, 의상, 윤필이 이 산에서 세 승려가 일 막, 이 막, 삼 막의 세 암자를 짓고 따로 수도하여 득도하였다 하여 붙여진 것으로 전해지고 있다. 임진왜란 때 일 막, 이 막은 소실되고 삼막사(三幕寺)만 남았다는 것이다.\",\"mntihigh\":\"( - )\",\"mntilistno\":116200201,\"mntiname\":\"관악산\",\"mntisname\":\" \",\"mntisummary\":\" \",\"mntitop\":\" \"},{\"mntiadd\":\"경기도 과천시 중앙동 \",\"mntiadmin\":\"과천시청\",\"mntiadminnum\":\"02-502-5001\",\"mntidetails\":\"( - )\",\"mntihigh\":\"( - )\",\"mntilistno\":412900101,\"mntiname\":\"관악산\",\"mntisname\":\" \",\"mntisummary\":\" \",\"mntitop\":\" \"}]},\"numOfRows\":10,\"pageNo\":1,\"totalCount\":2}}}\n"
     ]
    }
   ],
   "source": [
    "print(response.text)"
   ]
  },
  {
   "cell_type": "code",
   "execution_count": 10,
   "metadata": {},
   "outputs": [
    {
     "data": {
      "text/plain": [
       "{'response': {'header': {'resultCode': '00', 'resultMsg': 'NORMAL SERVICE.'},\n",
       "  'body': {'items': {'item': [{'mntiadd': '서울특별시 관악구 신림동 ',\n",
       "      'mntiadmin': '관악구청',\n",
       "      'mntiadminnum': '02-879-5000',\n",
       "      'mntidetails': '관악산은 서울시 관악구와 금천구, 경기도 과천시와 안양시에 걸쳐 있어 북한산, 도봉산과 더불어 누구나 쉽게 찾는 친근한 산이다. 멀리서 보면 온통 바위로 뒤덮여 있는 산세를 가진 관악산은 해발은 낮으나 등산로 곳곳에 위험한 바위가 있어 조심해야 한다. 관악산은 예로부터 불의 산(火山)이라 하여 조선 태조가 궁터를 지금의 경복궁 자리로 옮길 때, 무학대사가 이곳은 관악산과 마주 보이는 자리로 관악산의 화기가 궁을 눌러서 내우외환이 끊이지 않을 것이라며 반대했지만, 정도전의 남쪽에 한강이 가로질러 있어서 영향이 없을 것이라는 주장을 받아들여 지금의 경복궁을 창건하였다 한다. 그 후 태종 때 왕자의 난, 세조의 왕위 찬탈, 임진왜란, 병자호란, 그리고 경복궁에 발생한 수차례의 화재가 발생한 것을 풍수지리설로 해석하는 이도 있다. 대원군은 경복궁을 재건할 때 관악산의 화기를 누르기 위해 경복궁 정문인 광화문 앞에 바다의 신으로 상상의 동물인 해태 조각상을 만들어 세웠다. 관악산 연주대는 고려가 망하자 남은 유신 열 사람이 관악산 절에 숨어 살며 경복궁을 바라보며 통곡을 했다 하여, 임금을 사모한다는 뜻으로 연주대(戀主臺)라 불리게 되었다 한다. 이성계가 연주암을 중창한 뒤, 태종의 두 아들인 양녕대군과 효령대군은 태종이 왕위를 셋째 충녕대군(세종)에게 물려줄 뜻을 알고 관악산에 입산하였다 한다. 예전에 관악산을 삼성산이라 부른 것은 신라의 고승 원효, 의상, 윤필이 이 산에서 세 승려가 일 막, 이 막, 삼 막의 세 암자를 짓고 따로 수도하여 득도하였다 하여 붙여진 것으로 전해지고 있다. 임진왜란 때 일 막, 이 막은 소실되고 삼막사(三幕寺)만 남았다는 것이다.',\n",
       "      'mntihigh': '( - )',\n",
       "      'mntilistno': 116200201,\n",
       "      'mntiname': '관악산',\n",
       "      'mntisname': ' ',\n",
       "      'mntisummary': ' ',\n",
       "      'mntitop': ' '},\n",
       "     {'mntiadd': '경기도 과천시 중앙동 ',\n",
       "      'mntiadmin': '과천시청',\n",
       "      'mntiadminnum': '02-502-5001',\n",
       "      'mntidetails': '( - )',\n",
       "      'mntihigh': '( - )',\n",
       "      'mntilistno': 412900101,\n",
       "      'mntiname': '관악산',\n",
       "      'mntisname': ' ',\n",
       "      'mntisummary': ' ',\n",
       "      'mntitop': ' '}]},\n",
       "   'numOfRows': 10,\n",
       "   'pageNo': 1,\n",
       "   'totalCount': 2}}}"
      ]
     },
     "execution_count": 10,
     "metadata": {},
     "output_type": "execute_result"
    }
   ],
   "source": [
    "import json\n",
    "\n",
    "d = json.loads(response.text)\n",
    "d"
   ]
  },
  {
   "cell_type": "code",
   "execution_count": 8,
   "metadata": {},
   "outputs": [
    {
     "name": "stdout",
     "output_type": "stream",
     "text": [
      "{'mntiadd': '서울특별시 관악구 신림동 ', 'mntiadmin': '관악구청', 'mntiadminnum': '02-879-5000', 'mntidetails': '관악산은 서울시 관악구와 금천구, 경기도 과천시와 안양시에 걸쳐 있어 북한산, 도봉산과 더불어 누구나 쉽게 찾는 친근한 산이다. 멀리서 보면 온통 바위로 뒤덮여 있는 산세를 가진 관악산은 해발은 낮으나 등산로 곳곳에 위험한 바위가 있어 조심해야 한다. 관악산은 예로부터 불의 산(火山)이라 하여 조선 태조가 궁터를 지금의 경복궁 자리로 옮길 때, 무학대사가 이곳은 관악산과 마주 보이는 자리로 관악산의 화기가 궁을 눌러서 내우외환이 끊이지 않을 것이라며 반대했지만, 정도전의 남쪽에 한강이 가로질러 있어서 영향이 없을 것이라는 주장을 받아들여 지금의 경복궁을 창건하였다 한다. 그 후 태종 때 왕자의 난, 세조의 왕위 찬탈, 임진왜란, 병자호란, 그리고 경복궁에 발생한 수차례의 화재가 발생한 것을 풍수지리설로 해석하는 이도 있다. 대원군은 경복궁을 재건할 때 관악산의 화기를 누르기 위해 경복궁 정문인 광화문 앞에 바다의 신으로 상상의 동물인 해태 조각상을 만들어 세웠다. 관악산 연주대는 고려가 망하자 남은 유신 열 사람이 관악산 절에 숨어 살며 경복궁을 바라보며 통곡을 했다 하여, 임금을 사모한다는 뜻으로 연주대(戀主臺)라 불리게 되었다 한다. 이성계가 연주암을 중창한 뒤, 태종의 두 아들인 양녕대군과 효령대군은 태종이 왕위를 셋째 충녕대군(세종)에게 물려줄 뜻을 알고 관악산에 입산하였다 한다. 예전에 관악산을 삼성산이라 부른 것은 신라의 고승 원효, 의상, 윤필이 이 산에서 세 승려가 일 막, 이 막, 삼 막의 세 암자를 짓고 따로 수도하여 득도하였다 하여 붙여진 것으로 전해지고 있다. 임진왜란 때 일 막, 이 막은 소실되고 삼막사(三幕寺)만 남았다는 것이다.', 'mntihigh': '( - )', 'mntilistno': 116200201, 'mntiname': '관악산', 'mntisname': ' ', 'mntisummary': ' ', 'mntitop': ' '}\n"
     ]
    }
   ],
   "source": [
    "print(d['response']['body']['items']['item'][0])"
   ]
  },
  {
   "cell_type": "code",
   "execution_count": 17,
   "metadata": {},
   "outputs": [],
   "source": [
    "dd = d['response']['body']['items']['item']"
   ]
  },
  {
   "cell_type": "code",
   "execution_count": 18,
   "metadata": {},
   "outputs": [],
   "source": [
    "df = pd.DataFrame(data = dd)"
   ]
  },
  {
   "cell_type": "code",
   "execution_count": 21,
   "metadata": {},
   "outputs": [
    {
     "data": {
      "text/html": [
       "<div>\n",
       "<style scoped>\n",
       "    .dataframe tbody tr th:only-of-type {\n",
       "        vertical-align: middle;\n",
       "    }\n",
       "\n",
       "    .dataframe tbody tr th {\n",
       "        vertical-align: top;\n",
       "    }\n",
       "\n",
       "    .dataframe thead th {\n",
       "        text-align: right;\n",
       "    }\n",
       "</style>\n",
       "<table border=\"1\" class=\"dataframe\">\n",
       "  <thead>\n",
       "    <tr style=\"text-align: right;\">\n",
       "      <th></th>\n",
       "      <th>mntiadd</th>\n",
       "      <th>mntiadmin</th>\n",
       "      <th>mntiadminnum</th>\n",
       "      <th>mntidetails</th>\n",
       "      <th>mntihigh</th>\n",
       "      <th>mntilistno</th>\n",
       "      <th>mntiname</th>\n",
       "      <th>mntisname</th>\n",
       "      <th>mntisummary</th>\n",
       "      <th>mntitop</th>\n",
       "    </tr>\n",
       "  </thead>\n",
       "  <tbody>\n",
       "    <tr>\n",
       "      <th>0</th>\n",
       "      <td>서울특별시 관악구 신림동</td>\n",
       "      <td>관악구청</td>\n",
       "      <td>02-879-5000</td>\n",
       "      <td>관악산은 서울시 관악구와 금천구, 경기도 과천시와 안양시에 걸쳐 있어 북한산, 도봉...</td>\n",
       "      <td>( - )</td>\n",
       "      <td>116200201</td>\n",
       "      <td>관악산</td>\n",
       "      <td></td>\n",
       "      <td></td>\n",
       "      <td></td>\n",
       "    </tr>\n",
       "    <tr>\n",
       "      <th>1</th>\n",
       "      <td>경기도 과천시 중앙동</td>\n",
       "      <td>과천시청</td>\n",
       "      <td>02-502-5001</td>\n",
       "      <td>( - )</td>\n",
       "      <td>( - )</td>\n",
       "      <td>412900101</td>\n",
       "      <td>관악산</td>\n",
       "      <td></td>\n",
       "      <td></td>\n",
       "      <td></td>\n",
       "    </tr>\n",
       "  </tbody>\n",
       "</table>\n",
       "</div>"
      ],
      "text/plain": [
       "          mntiadd mntiadmin mntiadminnum  \\\n",
       "0  서울특별시 관악구 신림동       관악구청  02-879-5000   \n",
       "1    경기도 과천시 중앙동       과천시청  02-502-5001   \n",
       "\n",
       "                                         mntidetails mntihigh  mntilistno  \\\n",
       "0  관악산은 서울시 관악구와 금천구, 경기도 과천시와 안양시에 걸쳐 있어 북한산, 도봉...    ( - )   116200201   \n",
       "1                                              ( - )    ( - )   412900101   \n",
       "\n",
       "  mntiname mntisname mntisummary mntitop  \n",
       "0      관악산                                \n",
       "1      관악산                                "
      ]
     },
     "execution_count": 21,
     "metadata": {},
     "output_type": "execute_result"
    }
   ],
   "source": [
    "df"
   ]
  },
  {
   "cell_type": "code",
   "execution_count": 23,
   "metadata": {},
   "outputs": [
    {
     "data": {
      "text/html": [
       "<div>\n",
       "<style scoped>\n",
       "    .dataframe tbody tr th:only-of-type {\n",
       "        vertical-align: middle;\n",
       "    }\n",
       "\n",
       "    .dataframe tbody tr th {\n",
       "        vertical-align: top;\n",
       "    }\n",
       "\n",
       "    .dataframe thead th {\n",
       "        text-align: right;\n",
       "    }\n",
       "</style>\n",
       "<table border=\"1\" class=\"dataframe\">\n",
       "  <thead>\n",
       "    <tr style=\"text-align: right;\">\n",
       "      <th></th>\n",
       "      <th>mntiadd</th>\n",
       "      <th>mntiadmin</th>\n",
       "      <th>mntiadminnum</th>\n",
       "      <th>mntidetails</th>\n",
       "      <th>mntihigh</th>\n",
       "      <th>mntilistno</th>\n",
       "      <th>mntiname</th>\n",
       "      <th>mntisname</th>\n",
       "      <th>mntisummary</th>\n",
       "      <th>mntitop</th>\n",
       "    </tr>\n",
       "  </thead>\n",
       "  <tbody>\n",
       "    <tr>\n",
       "      <th>0</th>\n",
       "      <td>서울특별시 관악구 신림동</td>\n",
       "      <td>관악구청</td>\n",
       "      <td>02-879-5000</td>\n",
       "      <td>관악산은 서울시 관악구와 금천구, 경기도 과천시와 안양시에 걸쳐 있어 북한산, 도봉...</td>\n",
       "      <td>( - )</td>\n",
       "      <td>116200201</td>\n",
       "      <td>관악산</td>\n",
       "      <td></td>\n",
       "      <td></td>\n",
       "      <td></td>\n",
       "    </tr>\n",
       "    <tr>\n",
       "      <th>1</th>\n",
       "      <td>경기도 과천시 중앙동</td>\n",
       "      <td>과천시청</td>\n",
       "      <td>02-502-5001</td>\n",
       "      <td>( - )</td>\n",
       "      <td>( - )</td>\n",
       "      <td>412900101</td>\n",
       "      <td>관악산</td>\n",
       "      <td></td>\n",
       "      <td></td>\n",
       "      <td></td>\n",
       "    </tr>\n",
       "    <tr>\n",
       "      <th>2</th>\n",
       "      <td>서울특별시 관악구 신림동</td>\n",
       "      <td>관악구청</td>\n",
       "      <td>02-879-5000</td>\n",
       "      <td>관악산은 서울시 관악구와 금천구, 경기도 과천시와 안양시에 걸쳐 있어 북한산, 도봉...</td>\n",
       "      <td>( - )</td>\n",
       "      <td>116200201</td>\n",
       "      <td>관악산</td>\n",
       "      <td></td>\n",
       "      <td></td>\n",
       "      <td></td>\n",
       "    </tr>\n",
       "    <tr>\n",
       "      <th>3</th>\n",
       "      <td>경기도 과천시 중앙동</td>\n",
       "      <td>과천시청</td>\n",
       "      <td>02-502-5001</td>\n",
       "      <td>( - )</td>\n",
       "      <td>( - )</td>\n",
       "      <td>412900101</td>\n",
       "      <td>관악산</td>\n",
       "      <td></td>\n",
       "      <td></td>\n",
       "      <td></td>\n",
       "    </tr>\n",
       "  </tbody>\n",
       "</table>\n",
       "</div>"
      ],
      "text/plain": [
       "          mntiadd mntiadmin mntiadminnum  \\\n",
       "0  서울특별시 관악구 신림동       관악구청  02-879-5000   \n",
       "1    경기도 과천시 중앙동       과천시청  02-502-5001   \n",
       "2  서울특별시 관악구 신림동       관악구청  02-879-5000   \n",
       "3    경기도 과천시 중앙동       과천시청  02-502-5001   \n",
       "\n",
       "                                         mntidetails mntihigh  mntilistno  \\\n",
       "0  관악산은 서울시 관악구와 금천구, 경기도 과천시와 안양시에 걸쳐 있어 북한산, 도봉...    ( - )   116200201   \n",
       "1                                              ( - )    ( - )   412900101   \n",
       "2  관악산은 서울시 관악구와 금천구, 경기도 과천시와 안양시에 걸쳐 있어 북한산, 도봉...    ( - )   116200201   \n",
       "3                                              ( - )    ( - )   412900101   \n",
       "\n",
       "  mntiname mntisname mntisummary mntitop  \n",
       "0      관악산                                \n",
       "1      관악산                                \n",
       "2      관악산                                \n",
       "3      관악산                                "
      ]
     },
     "execution_count": 23,
     "metadata": {},
     "output_type": "execute_result"
    }
   ],
   "source": [
    "df.append(dd, ignore_index=True)"
   ]
  }
 ],
 "metadata": {
  "kernelspec": {
   "display_name": "Python 3",
   "language": "python",
   "name": "python3"
  },
  "language_info": {
   "codemirror_mode": {
    "name": "ipython",
    "version": 3
   },
   "file_extension": ".py",
   "mimetype": "text/x-python",
   "name": "python",
   "nbconvert_exporter": "python",
   "pygments_lexer": "ipython3",
   "version": "3.7.1"
  }
 },
 "nbformat": 4,
 "nbformat_minor": 2
}
